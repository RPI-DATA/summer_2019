{
 "cells": [
  {
   "cell_type": "markdown",
   "metadata": {},
   "source": [
    "Initialize the OK tests to get started."
   ]
  },
  {
   "cell_type": "code",
   "execution_count": 1,
   "metadata": {},
   "outputs": [],
   "source": [
    "from client.api.notebook import Notebook\n",
    "ok = Notebook('lab02.ok')\n",
    "_ = ok.auth(inline=True)"
   ]
  },
  {
   "cell_type": "code",
   "execution_count": 2,
   "metadata": {},
   "outputs": [],
   "source": [
    "import settings"
   ]
  },
  {
   "cell_type": "markdown",
   "metadata": {},
   "source": [
    "**Submission**: This should be submitted in PDF format with Homework 2.  "
   ]
  },
  {
   "cell_type": "code",
   "execution_count": 3,
   "metadata": {},
   "outputs": [],
   "source": [
    "a=5*13*31+2\n",
    "b=2018\n",
    "#new_year = max(a,b)\n",
    "settings.new_year= 0"
   ]
  },
  {
   "cell_type": "markdown",
   "metadata": {},
   "source": [
    "Check your work by executing the next cell."
   ]
  },
  {
   "cell_type": "code",
   "execution_count": 4,
   "metadata": {},
   "outputs": [
    {
     "data": {
      "text/html": [
       "\n",
       "    \n",
       "    \n",
       "        <p>0 of 1 tests passed</p>\n",
       "        \n",
       "        \n",
       "        <p> <strong>Tests failed: </strong>\n",
       "            <ul>\n",
       "            \n",
       "                <li> \n",
       "    <p><strong style='color: red;'>/Users/guoshumao/Downloads/19 Summer/summer_2019/summer_2019/notebooks/tests/q11.py</strong></p>\n",
       "\n",
       "    <p><strong>Test code:</strong><pre><div class=\"highlight\" style=\"background: #f8f8f8\"><pre style=\"line-height: 125%\"><span></span><span style=\"color: #000080; font-weight: bold\">&gt;&gt;&gt; </span>settings<span style=\"color: #666666\">.</span>new_year\n",
       "<span style=\"color: #888888\">2018</span>\n",
       "</pre></div>\n",
       "</pre></p>\n",
       "\n",
       "    <p><strong>Test result:</strong><pre>Trying:\n",
       "    settings.new_year\n",
       "Expecting:\n",
       "    2018\n",
       "**********************************************************************\n",
       "Line 2, in /Users/guoshumao/Downloads/19 Summer/summer_2019/summer_2019/notebooks/tests/q11.py 0\n",
       "Failed example:\n",
       "    settings.new_year\n",
       "Expected:\n",
       "    2018\n",
       "Got:\n",
       "    0\n",
       "</pre></p>\n",
       "     </li>\n",
       "            \n",
       "            </ul>\n",
       "        \n",
       "    \n",
       "    "
      ],
      "text/plain": [
       "<gofer.ok.OKTestsResult at 0x10bbb50f0>"
      ]
     },
     "metadata": {},
     "output_type": "display_data"
    }
   ],
   "source": [
    "_ = ok.grade('q11')"
   ]
  },
  {
   "cell_type": "markdown",
   "metadata": {},
   "source": [
    "**Question 2.1.** Yuri Gagarin was the first person to travel through outer space.  When he emerged from his capsule upon landing on Earth, he [reportedly](https://en.wikiquote.org/wiki/Yuri_Gagarin) had the following conversation with a woman and girl who saw the landing:\n",
    "\n",
    "    The woman asked: \"Can it be that you have come from outer space?\"\n",
    "    Gagarin replied: \"As a matter of fact, I have!\"\n",
    "\n",
    "The cell below contains unfinished code.  Fill in the `...`s so that it prints out this conversation *exactly* as it appears above."
   ]
  },
  {
   "cell_type": "code",
   "execution_count": 5,
   "metadata": {},
   "outputs": [
    {
     "name": "stdout",
     "output_type": "stream",
     "text": [
      "0 \"Can it be that you have come from outer space?\"\n",
      "Gagarin replied: \n"
     ]
    }
   ],
   "source": [
    "settings.woman_asking = 0\n",
    "woman_quote = '\"Can it be that you have come from outer space?\"'\n",
    "gagarin_reply = 'Gagarin replied:'\n",
    "settings.gagarin_quote = \"\"\n",
    "\n",
    "print(settings.woman_asking, woman_quote)\n",
    "print(gagarin_reply, settings.gagarin_quote)"
   ]
  },
  {
   "cell_type": "code",
   "execution_count": 6,
   "metadata": {},
   "outputs": [
    {
     "data": {
      "text/html": [
       "\n",
       "    \n",
       "    \n",
       "        <p>0 of 1 tests passed</p>\n",
       "        \n",
       "        \n",
       "        <p> <strong>Tests failed: </strong>\n",
       "            <ul>\n",
       "            \n",
       "                <li> \n",
       "    <p><strong style='color: red;'>/Users/guoshumao/Downloads/19 Summer/summer_2019/summer_2019/notebooks/tests/q21.py</strong></p>\n",
       "\n",
       "    <p><strong>Test code:</strong><pre><div class=\"highlight\" style=\"background: #f8f8f8\"><pre style=\"line-height: 125%\"><span></span><span style=\"color: #000080; font-weight: bold\">&gt;&gt;&gt; </span>settings<span style=\"color: #666666\">.</span>woman_asking\n",
       "<span style=\"color: #888888\">&#39;The woman asked:&#39;</span>\n",
       "<span style=\"color: #000080; font-weight: bold\">&gt;&gt;&gt; </span>settings<span style=\"color: #666666\">.</span>gagarin_quote\n",
       "<span style=\"color: #888888\">&#39;&quot;As a matter of fact, I have!&quot;&#39;</span>\n",
       "</pre></div>\n",
       "</pre></p>\n",
       "\n",
       "    <p><strong>Test result:</strong><pre>Trying:\n",
       "    settings.woman_asking\n",
       "Expecting:\n",
       "    'The woman asked:'\n",
       "**********************************************************************\n",
       "Line 2, in /Users/guoshumao/Downloads/19 Summer/summer_2019/summer_2019/notebooks/tests/q21.py 0\n",
       "Failed example:\n",
       "    settings.woman_asking\n",
       "Expected:\n",
       "    'The woman asked:'\n",
       "Got:\n",
       "    0\n",
       "Trying:\n",
       "    settings.gagarin_quote\n",
       "Expecting:\n",
       "    '\"As a matter of fact, I have!\"'\n",
       "**********************************************************************\n",
       "Line 4, in /Users/guoshumao/Downloads/19 Summer/summer_2019/summer_2019/notebooks/tests/q21.py 0\n",
       "Failed example:\n",
       "    settings.gagarin_quote\n",
       "Expected:\n",
       "    '\"As a matter of fact, I have!\"'\n",
       "Got:\n",
       "    ''\n",
       "</pre></p>\n",
       "     </li>\n",
       "            \n",
       "            </ul>\n",
       "        \n",
       "    \n",
       "    "
      ],
      "text/plain": [
       "<gofer.ok.OKTestsResult at 0x10bc86080>"
      ]
     },
     "metadata": {},
     "output_type": "display_data"
    }
   ],
   "source": [
    "_ = ok.grade('q21')"
   ]
  },
  {
   "cell_type": "markdown",
   "metadata": {},
   "source": [
    "## 2.1. String Methods"
   ]
  },
  {
   "cell_type": "markdown",
   "metadata": {},
   "source": [
    "Strings can be transformed using **methods**, which are functions that involve an existing string and some other arguments. One example is the `replace` method, which replaces all instances of some part of a string with some alternative. \n",
    "\n",
    "A method is invoked on a string by placing a `.` after the string value, then the name of the method, and finally parentheses containing the arguments. Here's a sketch, where the `<` and `>` symbols aren't part of the syntax; they just mark the boundaries of sub-expressions.\n",
    "\n",
    "    <expression that evaluates to a string>.<method name>(<argument>, <argument>, ...)\n",
    "\n",
    "Try to predict the output of these examples, then execute them."
   ]
  },
  {
   "cell_type": "code",
   "execution_count": 7,
   "metadata": {},
   "outputs": [
    {
     "data": {
      "text/plain": [
       "'Hella'"
      ]
     },
     "execution_count": 7,
     "metadata": {},
     "output_type": "execute_result"
    }
   ],
   "source": [
    "# Replace one letter\n",
    "'Hello'.replace('o', 'a')"
   ]
  },
  {
   "cell_type": "code",
   "execution_count": 8,
   "metadata": {},
   "outputs": [
    {
     "data": {
      "text/plain": [
       "'matchmaker'"
      ]
     },
     "execution_count": 8,
     "metadata": {},
     "output_type": "execute_result"
    }
   ],
   "source": [
    "# Replace a sequence of letters, which appears twice\n",
    "'hitchhiker'.replace('hi', 'ma')"
   ]
  },
  {
   "cell_type": "markdown",
   "metadata": {},
   "source": [
    "Once a name is bound to a string value, methods can be invoked on that name as well. The name is still bound to the original string, so a new name is needed to capture the result. "
   ]
  },
  {
   "cell_type": "code",
   "execution_count": 9,
   "metadata": {},
   "outputs": [
    {
     "name": "stdout",
     "output_type": "stream",
     "text": [
      "sharp: edged\n",
      "hot: magma\n"
     ]
    }
   ],
   "source": [
    "sharp = 'edged'\n",
    "hot = sharp.replace('ed', 'ma')\n",
    "print('sharp:', sharp)\n",
    "print('hot:', hot)"
   ]
  },
  {
   "cell_type": "markdown",
   "metadata": {},
   "source": [
    "You can call functions on the results of other functions.  For example,\n",
    "\n",
    "    max(abs(-5), abs(3))\n",
    "\n",
    "has value 5.  Similarly, you can invoke methods on the results of other method (or function) calls."
   ]
  },
  {
   "cell_type": "code",
   "execution_count": 10,
   "metadata": {},
   "outputs": [
    {
     "data": {
      "text/plain": [
       "'degrade'"
      ]
     },
     "execution_count": 10,
     "metadata": {},
     "output_type": "execute_result"
    }
   ],
   "source": [
    "# Calling replace on the output of another call to\n",
    "# replace\n",
    "'train'.replace('t', 'ing').replace('in', 'de')"
   ]
  },
  {
   "cell_type": "markdown",
   "metadata": {},
   "source": [
    "Here's a picture of how Python evaluates a \"chained\" method call like that:\n",
    "\n",
    "<img src=\"chaining_method_calls.jpg\"/>"
   ]
  },
  {
   "cell_type": "markdown",
   "metadata": {},
   "source": [
    "**Question 2.1.1.** Assign strings to the names `you` and `this` so that the final expression evaluates to a 10-letter English word with three double letters in a row.\n",
    "\n",
    "*Hint:* After you guess at some values for `you` and `this`, it's helpful to see the value of the variable `the`.  Try printing the value of `the` by adding a line like this:\n",
    "    \n",
    "    print(the)\n",
    "\n",
    "*Hint 2:* Run the tests if you're stuck.  They'll often give you help."
   ]
  },
  {
   "cell_type": "code",
   "execution_count": 11,
   "metadata": {},
   "outputs": [
    {
     "ename": "TypeError",
     "evalue": "replace() argument 2 must be str, not ellipsis",
     "output_type": "error",
     "traceback": [
      "\u001b[0;31m---------------------------------------------------------------------------\u001b[0m",
      "\u001b[0;31mTypeError\u001b[0m                                 Traceback (most recent call last)",
      "\u001b[0;32m<ipython-input-11-8a0185ffd940>\u001b[0m in \u001b[0;36m<module>\u001b[0;34m\u001b[0m\n\u001b[1;32m      2\u001b[0m \u001b[0msettings\u001b[0m\u001b[0;34m.\u001b[0m\u001b[0mthis\u001b[0m \u001b[0;34m=\u001b[0m \u001b[0;34m...\u001b[0m\u001b[0;34m\u001b[0m\u001b[0;34m\u001b[0m\u001b[0m\n\u001b[1;32m      3\u001b[0m \u001b[0ma\u001b[0m \u001b[0;34m=\u001b[0m \u001b[0;34m'beeper'\u001b[0m\u001b[0;34m\u001b[0m\u001b[0;34m\u001b[0m\u001b[0m\n\u001b[0;32m----> 4\u001b[0;31m \u001b[0mthe\u001b[0m \u001b[0;34m=\u001b[0m \u001b[0ma\u001b[0m\u001b[0;34m.\u001b[0m\u001b[0mreplace\u001b[0m\u001b[0;34m(\u001b[0m\u001b[0;34m'p'\u001b[0m\u001b[0;34m,\u001b[0m \u001b[0msettings\u001b[0m\u001b[0;34m.\u001b[0m\u001b[0myou\u001b[0m\u001b[0;34m)\u001b[0m\u001b[0;34m\u001b[0m\u001b[0;34m\u001b[0m\u001b[0m\n\u001b[0m\u001b[1;32m      5\u001b[0m \u001b[0mthe\u001b[0m\u001b[0;34m.\u001b[0m\u001b[0mreplace\u001b[0m\u001b[0;34m(\u001b[0m\u001b[0;34m'bee'\u001b[0m\u001b[0;34m,\u001b[0m \u001b[0msettings\u001b[0m\u001b[0;34m.\u001b[0m\u001b[0mthis\u001b[0m\u001b[0;34m)\u001b[0m\u001b[0;34m\u001b[0m\u001b[0;34m\u001b[0m\u001b[0m\n",
      "\u001b[0;31mTypeError\u001b[0m: replace() argument 2 must be str, not ellipsis"
     ]
    }
   ],
   "source": [
    "settings.you = ...\n",
    "settings.this = ...\n",
    "a = 'beeper'\n",
    "the = a.replace('p', settings.you) \n",
    "the.replace('bee', settings.this)"
   ]
  },
  {
   "cell_type": "code",
   "execution_count": 12,
   "metadata": {},
   "outputs": [
    {
     "data": {
      "text/html": [
       "\n",
       "    \n",
       "    \n",
       "        <p>0 of 1 tests passed</p>\n",
       "        \n",
       "        \n",
       "        <p> <strong>Tests failed: </strong>\n",
       "            <ul>\n",
       "            \n",
       "                <li> \n",
       "    <p><strong style='color: red;'>/Users/guoshumao/Downloads/19 Summer/summer_2019/summer_2019/notebooks/tests/q211.py</strong></p>\n",
       "\n",
       "    <p><strong>Test code:</strong><pre><div class=\"highlight\" style=\"background: #f8f8f8\"><pre style=\"line-height: 125%\"><span></span><span style=\"color: #000080; font-weight: bold\">&gt;&gt;&gt; </span><span style=\"color: #408080; font-style: italic\"># Hint 1: Try to make the word &quot;bookkeeper&quot;!</span>\n",
       "<span style=\"color: #000080; font-weight: bold\">&gt;&gt;&gt; </span><span style=\"color: #408080; font-style: italic\"># </span>\n",
       "<span style=\"color: #000080; font-weight: bold\">&gt;&gt;&gt; </span><span style=\"color: #408080; font-style: italic\"># Hint 2: After writing this:</span>\n",
       "<span style=\"color: #000080; font-weight: bold\">&gt;&gt;&gt; </span><span style=\"color: #408080; font-style: italic\">#   settings.you = &#39;keep&#39;</span>\n",
       "<span style=\"color: #000080; font-weight: bold\">&gt;&gt;&gt; </span><span style=\"color: #408080; font-style: italic\"># the value of the variable named &#39;the&#39; will be</span>\n",
       "<span style=\"color: #000080; font-weight: bold\">&gt;&gt;&gt; </span><span style=\"color: #408080; font-style: italic\">#   &#39;beekeeper&#39;</span>\n",
       "<span style=\"color: #000080; font-weight: bold\">&gt;&gt;&gt; </span><span style=\"color: #BA2121\">&#39;beeper&#39;</span><span style=\"color: #666666\">.</span>replace(<span style=\"color: #BA2121\">&#39;p&#39;</span>, settings<span style=\"color: #666666\">.</span>you)<span style=\"color: #666666\">.</span>replace(<span style=\"color: #BA2121\">&#39;bee&#39;</span>, settings<span style=\"color: #666666\">.</span>this)[::<span style=\"color: #666666\">-1</span>]\n",
       "<span style=\"color: #888888\">&#39;repeekkoob&#39;</span>\n",
       "</pre></div>\n",
       "</pre></p>\n",
       "\n",
       "    <p><strong>Test result:</strong><pre>Trying:\n",
       "    'beeper'.replace('p', settings.you).replace('bee', settings.this)[::-1]\n",
       "Expecting:\n",
       "    'repeekkoob'\n",
       "**********************************************************************\n",
       "Line 8, in /Users/guoshumao/Downloads/19 Summer/summer_2019/summer_2019/notebooks/tests/q211.py 0\n",
       "Failed example:\n",
       "    'beeper'.replace('p', settings.you).replace('bee', settings.this)[::-1]\n",
       "Exception raised:\n",
       "    Traceback (most recent call last):\n",
       "      File \"/anaconda3/lib/python3.7/doctest.py\", line 1329, in __run\n",
       "        compileflags, 1), test.globs)\n",
       "      File \"<doctest /Users/guoshumao/Downloads/19 Summer/summer_2019/summer_2019/notebooks/tests/q211.py 0[0]>\", line 1, in <module>\n",
       "        'beeper'.replace('p', settings.you).replace('bee', settings.this)[::-1]\n",
       "    TypeError: replace() argument 2 must be str, not ellipsis\n",
       "</pre></p>\n",
       "     </li>\n",
       "            \n",
       "            </ul>\n",
       "        \n",
       "    \n",
       "    "
      ],
      "text/plain": [
       "<gofer.ok.OKTestsResult at 0x10bc86780>"
      ]
     },
     "metadata": {},
     "output_type": "display_data"
    }
   ],
   "source": [
    "_ = ok.grade('q211')"
   ]
  },
  {
   "cell_type": "code",
   "execution_count": 13,
   "metadata": {},
   "outputs": [
    {
     "name": "stdout",
     "output_type": "stream",
     "text": [
      "Requirement already satisfied: matplotlib in /anaconda3/lib/python3.7/site-packages (3.0.2)\r\n",
      "Requirement already satisfied: numpy>=1.10.0 in /anaconda3/lib/python3.7/site-packages (from matplotlib) (1.15.4)\r\n",
      "Requirement already satisfied: cycler>=0.10 in /anaconda3/lib/python3.7/site-packages (from matplotlib) (0.10.0)\r\n",
      "Requirement already satisfied: kiwisolver>=1.0.1 in /anaconda3/lib/python3.7/site-packages (from matplotlib) (1.0.1)\r\n",
      "Requirement already satisfied: pyparsing!=2.0.4,!=2.1.2,!=2.1.6,>=2.0.1 in /anaconda3/lib/python3.7/site-packages (from matplotlib) (2.3.0)\r\n",
      "Requirement already satisfied: python-dateutil>=2.1 in /anaconda3/lib/python3.7/site-packages (from matplotlib) (2.7.5)\r\n",
      "Requirement already satisfied: six in /anaconda3/lib/python3.7/site-packages (from cycler>=0.10->matplotlib) (1.12.0)\r\n",
      "Requirement already satisfied: setuptools in /anaconda3/lib/python3.7/site-packages (from kiwisolver>=1.0.1->matplotlib) (40.6.3)\r\n"
     ]
    }
   ],
   "source": [
    "!pip install matplotlib"
   ]
  },
  {
   "cell_type": "code",
   "execution_count": 14,
   "metadata": {},
   "outputs": [],
   "source": [
    "%matplotlib inline"
   ]
  },
  {
   "cell_type": "code",
   "execution_count": 15,
   "metadata": {},
   "outputs": [
    {
     "data": {
      "text/html": [
       "\n",
       "    \n",
       "    \n",
       "        <p>0 of 1 tests passed</p>\n",
       "        \n",
       "        \n",
       "        <p> <strong>Tests failed: </strong>\n",
       "            <ul>\n",
       "            \n",
       "                <li> \n",
       "    <p><strong style='color: red;'>/Users/guoshumao/Downloads/19 Summer/summer_2019/summer_2019/notebooks/tests/q11.py</strong></p>\n",
       "\n",
       "    <p><strong>Test code:</strong><pre><div class=\"highlight\" style=\"background: #f8f8f8\"><pre style=\"line-height: 125%\"><span></span><span style=\"color: #000080; font-weight: bold\">&gt;&gt;&gt; </span>settings<span style=\"color: #666666\">.</span>new_year\n",
       "<span style=\"color: #888888\">2018</span>\n",
       "</pre></div>\n",
       "</pre></p>\n",
       "\n",
       "    <p><strong>Test result:</strong><pre>Trying:\n",
       "    settings.new_year\n",
       "Expecting:\n",
       "    2018\n",
       "**********************************************************************\n",
       "Line 2, in /Users/guoshumao/Downloads/19 Summer/summer_2019/summer_2019/notebooks/tests/q11.py 0\n",
       "Failed example:\n",
       "    settings.new_year\n",
       "Expected:\n",
       "    2018\n",
       "Got:\n",
       "    0\n",
       "</pre></p>\n",
       "     </li>\n",
       "            \n",
       "            </ul>\n",
       "        \n",
       "    \n",
       "    "
      ],
      "text/plain": [
       "<gofer.ok.OKTestsResult at 0x11cc95b00>"
      ]
     },
     "metadata": {},
     "output_type": "display_data"
    },
    {
     "data": {
      "text/html": [
       "\n",
       "    \n",
       "    \n",
       "        <p>0 of 1 tests passed</p>\n",
       "        \n",
       "        \n",
       "        <p> <strong>Tests failed: </strong>\n",
       "            <ul>\n",
       "            \n",
       "                <li> \n",
       "    <p><strong style='color: red;'>/Users/guoshumao/Downloads/19 Summer/summer_2019/summer_2019/notebooks/tests/q211.py</strong></p>\n",
       "\n",
       "    <p><strong>Test code:</strong><pre><div class=\"highlight\" style=\"background: #f8f8f8\"><pre style=\"line-height: 125%\"><span></span><span style=\"color: #000080; font-weight: bold\">&gt;&gt;&gt; </span><span style=\"color: #408080; font-style: italic\"># Hint 1: Try to make the word &quot;bookkeeper&quot;!</span>\n",
       "<span style=\"color: #000080; font-weight: bold\">&gt;&gt;&gt; </span><span style=\"color: #408080; font-style: italic\"># </span>\n",
       "<span style=\"color: #000080; font-weight: bold\">&gt;&gt;&gt; </span><span style=\"color: #408080; font-style: italic\"># Hint 2: After writing this:</span>\n",
       "<span style=\"color: #000080; font-weight: bold\">&gt;&gt;&gt; </span><span style=\"color: #408080; font-style: italic\">#   settings.you = &#39;keep&#39;</span>\n",
       "<span style=\"color: #000080; font-weight: bold\">&gt;&gt;&gt; </span><span style=\"color: #408080; font-style: italic\"># the value of the variable named &#39;the&#39; will be</span>\n",
       "<span style=\"color: #000080; font-weight: bold\">&gt;&gt;&gt; </span><span style=\"color: #408080; font-style: italic\">#   &#39;beekeeper&#39;</span>\n",
       "<span style=\"color: #000080; font-weight: bold\">&gt;&gt;&gt; </span><span style=\"color: #BA2121\">&#39;beeper&#39;</span><span style=\"color: #666666\">.</span>replace(<span style=\"color: #BA2121\">&#39;p&#39;</span>, settings<span style=\"color: #666666\">.</span>you)<span style=\"color: #666666\">.</span>replace(<span style=\"color: #BA2121\">&#39;bee&#39;</span>, settings<span style=\"color: #666666\">.</span>this)[::<span style=\"color: #666666\">-1</span>]\n",
       "<span style=\"color: #888888\">&#39;repeekkoob&#39;</span>\n",
       "</pre></div>\n",
       "</pre></p>\n",
       "\n",
       "    <p><strong>Test result:</strong><pre>Trying:\n",
       "    'beeper'.replace('p', settings.you).replace('bee', settings.this)[::-1]\n",
       "Expecting:\n",
       "    'repeekkoob'\n",
       "**********************************************************************\n",
       "Line 8, in /Users/guoshumao/Downloads/19 Summer/summer_2019/summer_2019/notebooks/tests/q211.py 0\n",
       "Failed example:\n",
       "    'beeper'.replace('p', settings.you).replace('bee', settings.this)[::-1]\n",
       "Exception raised:\n",
       "    Traceback (most recent call last):\n",
       "      File \"/anaconda3/lib/python3.7/doctest.py\", line 1329, in __run\n",
       "        compileflags, 1), test.globs)\n",
       "      File \"<doctest /Users/guoshumao/Downloads/19 Summer/summer_2019/summer_2019/notebooks/tests/q211.py 0[0]>\", line 1, in <module>\n",
       "        'beeper'.replace('p', settings.you).replace('bee', settings.this)[::-1]\n",
       "    TypeError: replace() argument 2 must be str, not ellipsis\n",
       "</pre></p>\n",
       "     </li>\n",
       "            \n",
       "            </ul>\n",
       "        \n",
       "    \n",
       "    "
      ],
      "text/plain": [
       "<gofer.ok.OKTestsResult at 0x11cbdb438>"
      ]
     },
     "metadata": {},
     "output_type": "display_data"
    },
    {
     "data": {
      "text/html": [
       "\n",
       "    \n",
       "    \n",
       "        <p>0 of 1 tests passed</p>\n",
       "        \n",
       "        \n",
       "        <p> <strong>Tests failed: </strong>\n",
       "            <ul>\n",
       "            \n",
       "                <li> \n",
       "    <p><strong style='color: red;'>/Users/guoshumao/Downloads/19 Summer/summer_2019/summer_2019/notebooks/tests/q21.py</strong></p>\n",
       "\n",
       "    <p><strong>Test code:</strong><pre><div class=\"highlight\" style=\"background: #f8f8f8\"><pre style=\"line-height: 125%\"><span></span><span style=\"color: #000080; font-weight: bold\">&gt;&gt;&gt; </span>settings<span style=\"color: #666666\">.</span>woman_asking\n",
       "<span style=\"color: #888888\">&#39;The woman asked:&#39;</span>\n",
       "<span style=\"color: #000080; font-weight: bold\">&gt;&gt;&gt; </span>settings<span style=\"color: #666666\">.</span>gagarin_quote\n",
       "<span style=\"color: #888888\">&#39;&quot;As a matter of fact, I have!&quot;&#39;</span>\n",
       "</pre></div>\n",
       "</pre></p>\n",
       "\n",
       "    <p><strong>Test result:</strong><pre>Trying:\n",
       "    settings.woman_asking\n",
       "Expecting:\n",
       "    'The woman asked:'\n",
       "**********************************************************************\n",
       "Line 2, in /Users/guoshumao/Downloads/19 Summer/summer_2019/summer_2019/notebooks/tests/q21.py 0\n",
       "Failed example:\n",
       "    settings.woman_asking\n",
       "Expected:\n",
       "    'The woman asked:'\n",
       "Got:\n",
       "    0\n",
       "Trying:\n",
       "    settings.gagarin_quote\n",
       "Expecting:\n",
       "    '\"As a matter of fact, I have!\"'\n",
       "**********************************************************************\n",
       "Line 4, in /Users/guoshumao/Downloads/19 Summer/summer_2019/summer_2019/notebooks/tests/q21.py 0\n",
       "Failed example:\n",
       "    settings.gagarin_quote\n",
       "Expected:\n",
       "    '\"As a matter of fact, I have!\"'\n",
       "Got:\n",
       "    ''\n",
       "</pre></p>\n",
       "     </li>\n",
       "            \n",
       "            </ul>\n",
       "        \n",
       "    \n",
       "    "
      ],
      "text/plain": [
       "<gofer.ok.OKTestsResult at 0x11ccf4438>"
      ]
     },
     "metadata": {},
     "output_type": "display_data"
    },
    {
     "data": {
      "text/html": [
       "<div>\n",
       "<style scoped>\n",
       "    .dataframe tbody tr th:only-of-type {\n",
       "        vertical-align: middle;\n",
       "    }\n",
       "\n",
       "    .dataframe tbody tr th {\n",
       "        vertical-align: top;\n",
       "    }\n",
       "\n",
       "    .dataframe thead th {\n",
       "        text-align: right;\n",
       "    }\n",
       "</style>\n",
       "<table border=\"1\" class=\"dataframe\">\n",
       "  <thead>\n",
       "    <tr style=\"text-align: right;\">\n",
       "      <th></th>\n",
       "      <th>student</th>\n",
       "      <th>q11</th>\n",
       "      <th>q11-failed</th>\n",
       "      <th>q211</th>\n",
       "      <th>q211-failed</th>\n",
       "      <th>q21</th>\n",
       "      <th>q21-failed</th>\n",
       "      <th>total_grade</th>\n",
       "      <th>comments</th>\n",
       "    </tr>\n",
       "  </thead>\n",
       "  <tbody>\n",
       "    <tr>\n",
       "      <th>0</th>\n",
       "      <td>test0_3</td>\n",
       "      <td>0.0</td>\n",
       "      <td>['Expected:', '    2018', 'Got:', '    0']</td>\n",
       "      <td>0.0</td>\n",
       "      <td>['Expecting:', \"    \\\\'repeekkoob\\\\'\", '******...</td>\n",
       "      <td>0.0</td>\n",
       "      <td>['Failed example:', '    settings.woman_asking...</td>\n",
       "      <td>0.0</td>\n",
       "      <td></td>\n",
       "    </tr>\n",
       "  </tbody>\n",
       "</table>\n",
       "</div>"
      ],
      "text/plain": [
       "   student  q11                                  q11-failed  q211  \\\n",
       "0  test0_3  0.0  ['Expected:', '    2018', 'Got:', '    0']   0.0   \n",
       "\n",
       "                                         q211-failed  q21  \\\n",
       "0  ['Expecting:', \"    \\\\'repeekkoob\\\\'\", '******...  0.0   \n",
       "\n",
       "                                          q21-failed  total_grade comments  \n",
       "0  ['Failed example:', '    settings.woman_asking...          0.0           "
      ]
     },
     "execution_count": 15,
     "metadata": {},
     "output_type": "execute_result"
    }
   ],
   "source": [
    "import grade\n",
    "import importlib\n",
    "importlib.reload(grade)\n",
    "ok = Notebook('lab02.ok')\n",
    "_ = ok.auth(inline=True)\n",
    "\n",
    "name=\"test0_3\"\n",
    "points_per_test=2.5\n",
    "comments=\"\"\n",
    "\n",
    "grade.grade(name, points_per_test, comments, ok)"
   ]
  },
  {
   "cell_type": "code",
   "execution_count": null,
   "metadata": {},
   "outputs": [],
   "source": []
  }
 ],
 "metadata": {
  "anaconda-cloud": {},
  "kernelspec": {
   "display_name": "Python 3",
   "language": "python",
   "name": "python3"
  },
  "language_info": {
   "codemirror_mode": {
    "name": "ipython",
    "version": 3
   },
   "file_extension": ".py",
   "mimetype": "text/x-python",
   "name": "python",
   "nbconvert_exporter": "python",
   "pygments_lexer": "ipython3",
   "version": "3.7.1"
  }
 },
 "nbformat": 4,
 "nbformat_minor": 2
}
