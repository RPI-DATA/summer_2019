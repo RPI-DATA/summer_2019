{
 "cells": [
  {
   "cell_type": "markdown",
   "metadata": {},
   "source": [
    "Initialize the OK tests to get started."
   ]
  },
  {
   "cell_type": "code",
   "execution_count": 2,
   "metadata": {
    "collapsed": true
   },
   "outputs": [],
   "source": [
    "from client.api.notebook import Notebook\n",
    "ok = Notebook('lab02.ok')\n",
    "_ = ok.auth(inline=True)"
   ]
  },
  {
   "cell_type": "markdown",
   "metadata": {},
   "source": [
    "**Submission**: This should be submitted in PDF format with Homework 2.  "
   ]
  },
  {
   "cell_type": "code",
   "execution_count": 9,
   "metadata": {},
   "outputs": [],
   "source": [
    "a=5*13*31+2\n",
    "b=2018\n",
    "#new_year = max(a,b)\n",
    "new_year= 0"
   ]
  },
  {
   "cell_type": "markdown",
   "metadata": {},
   "source": [
    "Check your work by executing the next cell."
   ]
  },
  {
   "cell_type": "code",
   "execution_count": 6,
   "metadata": {},
   "outputs": [
    {
     "data": {
      "text/html": [
       "\n",
       "    \n",
       "    \n",
       "        <p>All 1 tests passed! Full grade.</p>\n",
       "    \n",
       "    "
      ],
      "text/plain": [
       "<gradememaybe.ok.OKTestsResult at 0x1121ceef0>"
      ]
     },
     "metadata": {},
     "output_type": "display_data"
    }
   ],
   "source": [
    "_ = ok.grade('q11')"
   ]
  },
  {
   "cell_type": "markdown",
   "metadata": {},
   "source": [
    "**Question 2.1.** Yuri Gagarin was the first person to travel through outer space.  When he emerged from his capsule upon landing on Earth, he [reportedly](https://en.wikiquote.org/wiki/Yuri_Gagarin) had the following conversation with a woman and girl who saw the landing:\n",
    "\n",
    "    The woman asked: \"Can it be that you have come from outer space?\"\n",
    "    Gagarin replied: \"As a matter of fact, I have!\"\n",
    "\n",
    "The cell below contains unfinished code.  Fill in the `...`s so that it prints out this conversation *exactly* as it appears above."
   ]
  },
  {
   "cell_type": "code",
   "execution_count": 7,
   "metadata": {},
   "outputs": [
    {
     "name": "stdout",
     "output_type": "stream",
     "text": [
      "0 \"Can it be that you have come from outer space?\"\n",
      "Gagarin replied: \n"
     ]
    }
   ],
   "source": [
    "woman_asking = 0\n",
    "woman_quote = '\"Can it be that you have come from outer space?\"'\n",
    "gagarin_reply = 'Gagarin replied:'\n",
    "gagarin_quote = \"\"\n",
    "\n",
    "print(woman_asking, woman_quote)\n",
    "print(gagarin_reply, gagarin_quote)"
   ]
  },
  {
   "cell_type": "code",
   "execution_count": 8,
   "metadata": {},
   "outputs": [
    {
     "data": {
      "text/html": [
       "\n",
       "    \n",
       "    \n",
       "        <p>0 of 1 tests passed</p>\n",
       "        \n",
       "        \n",
       "        <p> <strong>Tests failed: </strong>\n",
       "            <ul>\n",
       "            \n",
       "                <li> \n",
       "    <p><strong style='color: red;'>/Users/jasonkuruzovich/githubdesktop/0_class/summer_2019/notebooks/tests/q21.py</strong></p>\n",
       "\n",
       "    <p><strong>Test code:</strong><pre><div class=\"highlight\" style=\"background: #f8f8f8\"><pre style=\"line-height: 125%\"><span></span><span style=\"color: #000080; font-weight: bold\">&gt;&gt;&gt; </span>woman_asking\n",
       "<span style=\"color: #888888\">&#39;The woman asked:&#39;</span>\n",
       "<span style=\"color: #000080; font-weight: bold\">&gt;&gt;&gt; </span>gagarin_quote\n",
       "<span style=\"color: #888888\">&#39;&quot;As a matter of fact, I have!&quot;&#39;</span>\n",
       "</pre></div>\n",
       "</pre></p>\n",
       "\n",
       "    <p><strong>Test result:</strong><pre>Trying:\n",
       "    woman_asking\n",
       "Expecting:\n",
       "    'The woman asked:'\n",
       "**********************************************************************\n",
       "Line 2, in /Users/jasonkuruzovich/githubdesktop/0_class/summer_2019/notebooks/tests/q21.py 0\n",
       "Failed example:\n",
       "    woman_asking\n",
       "Expected:\n",
       "    'The woman asked:'\n",
       "Got:\n",
       "    0\n",
       "Trying:\n",
       "    gagarin_quote\n",
       "Expecting:\n",
       "    '\"As a matter of fact, I have!\"'\n",
       "**********************************************************************\n",
       "Line 4, in /Users/jasonkuruzovich/githubdesktop/0_class/summer_2019/notebooks/tests/q21.py 0\n",
       "Failed example:\n",
       "    gagarin_quote\n",
       "Expected:\n",
       "    '\"As a matter of fact, I have!\"'\n",
       "Got:\n",
       "    ''\n",
       "</pre></p>\n",
       "     </li>\n",
       "            \n",
       "            </ul>\n",
       "        \n",
       "    \n",
       "    "
      ],
      "text/plain": [
       "<gradememaybe.ok.OKTestsResult at 0x111e688d0>"
      ]
     },
     "metadata": {},
     "output_type": "display_data"
    }
   ],
   "source": [
    "_ = ok.grade('q21')"
   ]
  },
  {
   "cell_type": "markdown",
   "metadata": {},
   "source": [
    "## 2.1. String Methods"
   ]
  },
  {
   "cell_type": "markdown",
   "metadata": {},
   "source": [
    "Strings can be transformed using **methods**, which are functions that involve an existing string and some other arguments. One example is the `replace` method, which replaces all instances of some part of a string with some alternative. \n",
    "\n",
    "A method is invoked on a string by placing a `.` after the string value, then the name of the method, and finally parentheses containing the arguments. Here's a sketch, where the `<` and `>` symbols aren't part of the syntax; they just mark the boundaries of sub-expressions.\n",
    "\n",
    "    <expression that evaluates to a string>.<method name>(<argument>, <argument>, ...)\n",
    "\n",
    "Try to predict the output of these examples, then execute them."
   ]
  },
  {
   "cell_type": "code",
   "execution_count": 11,
   "metadata": {},
   "outputs": [
    {
     "data": {
      "text/plain": [
       "'Hella'"
      ]
     },
     "execution_count": 11,
     "metadata": {},
     "output_type": "execute_result"
    }
   ],
   "source": [
    "# Replace one letter\n",
    "'Hello'.replace('o', 'a')"
   ]
  },
  {
   "cell_type": "code",
   "execution_count": 12,
   "metadata": {},
   "outputs": [
    {
     "data": {
      "text/plain": [
       "'matchmaker'"
      ]
     },
     "execution_count": 12,
     "metadata": {},
     "output_type": "execute_result"
    }
   ],
   "source": [
    "# Replace a sequence of letters, which appears twice\n",
    "'hitchhiker'.replace('hi', 'ma')"
   ]
  },
  {
   "cell_type": "markdown",
   "metadata": {},
   "source": [
    "Once a name is bound to a string value, methods can be invoked on that name as well. The name is still bound to the original string, so a new name is needed to capture the result. "
   ]
  },
  {
   "cell_type": "code",
   "execution_count": 13,
   "metadata": {},
   "outputs": [
    {
     "name": "stdout",
     "output_type": "stream",
     "text": [
      "sharp: edged\n",
      "hot: magma\n"
     ]
    }
   ],
   "source": [
    "sharp = 'edged'\n",
    "hot = sharp.replace('ed', 'ma')\n",
    "print('sharp:', sharp)\n",
    "print('hot:', hot)"
   ]
  },
  {
   "cell_type": "markdown",
   "metadata": {},
   "source": [
    "You can call functions on the results of other functions.  For example,\n",
    "\n",
    "    max(abs(-5), abs(3))\n",
    "\n",
    "has value 5.  Similarly, you can invoke methods on the results of other method (or function) calls."
   ]
  },
  {
   "cell_type": "code",
   "execution_count": 14,
   "metadata": {},
   "outputs": [
    {
     "data": {
      "text/plain": [
       "'degrade'"
      ]
     },
     "execution_count": 14,
     "metadata": {},
     "output_type": "execute_result"
    }
   ],
   "source": [
    "# Calling replace on the output of another call to\n",
    "# replace\n",
    "'train'.replace('t', 'ing').replace('in', 'de')"
   ]
  },
  {
   "cell_type": "markdown",
   "metadata": {},
   "source": [
    "Here's a picture of how Python evaluates a \"chained\" method call like that:\n",
    "\n",
    "<img src=\"chaining_method_calls.jpg\"/>"
   ]
  },
  {
   "cell_type": "markdown",
   "metadata": {},
   "source": [
    "**Question 2.1.1.** Assign strings to the names `you` and `this` so that the final expression evaluates to a 10-letter English word with three double letters in a row.\n",
    "\n",
    "*Hint:* After you guess at some values for `you` and `this`, it's helpful to see the value of the variable `the`.  Try printing the value of `the` by adding a line like this:\n",
    "    \n",
    "    print(the)\n",
    "\n",
    "*Hint 2:* Run the tests if you're stuck.  They'll often give you help."
   ]
  },
  {
   "cell_type": "code",
   "execution_count": 15,
   "metadata": {},
   "outputs": [
    {
     "ename": "TypeError",
     "evalue": "replace() argument 2 must be str, not ellipsis",
     "output_type": "error",
     "traceback": [
      "\u001b[0;31m---------------------------------------------------------------------------\u001b[0m",
      "\u001b[0;31mTypeError\u001b[0m                                 Traceback (most recent call last)",
      "\u001b[0;32m<ipython-input-15-2331ff072185>\u001b[0m in \u001b[0;36m<module>\u001b[0;34m()\u001b[0m\n\u001b[1;32m      2\u001b[0m \u001b[0mthis\u001b[0m \u001b[0;34m=\u001b[0m \u001b[0;34m...\u001b[0m\u001b[0;34m\u001b[0m\u001b[0m\n\u001b[1;32m      3\u001b[0m \u001b[0ma\u001b[0m \u001b[0;34m=\u001b[0m \u001b[0;34m'beeper'\u001b[0m\u001b[0;34m\u001b[0m\u001b[0m\n\u001b[0;32m----> 4\u001b[0;31m \u001b[0mthe\u001b[0m \u001b[0;34m=\u001b[0m \u001b[0ma\u001b[0m\u001b[0;34m.\u001b[0m\u001b[0mreplace\u001b[0m\u001b[0;34m(\u001b[0m\u001b[0;34m'p'\u001b[0m\u001b[0;34m,\u001b[0m \u001b[0myou\u001b[0m\u001b[0;34m)\u001b[0m\u001b[0;34m\u001b[0m\u001b[0m\n\u001b[0m\u001b[1;32m      5\u001b[0m \u001b[0mthe\u001b[0m\u001b[0;34m.\u001b[0m\u001b[0mreplace\u001b[0m\u001b[0;34m(\u001b[0m\u001b[0;34m'bee'\u001b[0m\u001b[0;34m,\u001b[0m \u001b[0mthis\u001b[0m\u001b[0;34m)\u001b[0m\u001b[0;34m\u001b[0m\u001b[0m\n",
      "\u001b[0;31mTypeError\u001b[0m: replace() argument 2 must be str, not ellipsis"
     ]
    }
   ],
   "source": [
    "you = ...\n",
    "this = ...\n",
    "a = 'beeper'\n",
    "the = a.replace('p', you) \n",
    "the.replace('bee', this)"
   ]
  },
  {
   "cell_type": "code",
   "execution_count": 16,
   "metadata": {},
   "outputs": [],
   "source": [
    "_ = ok.grade('q211')"
   ]
  },
  {
   "cell_type": "code",
   "execution_count": 16,
   "metadata": {},
   "outputs": [
    {
     "name": "stdout",
     "output_type": "stream",
     "text": [
      "Requirement already satisfied: matplotlib in /anaconda3/envs/carme/lib/python3.6/site-packages (2.2.2)\r\n",
      "Requirement already satisfied: numpy>=1.7.1 in /anaconda3/envs/carme/lib/python3.6/site-packages (from matplotlib) (1.14.3)\r\n",
      "Requirement already satisfied: cycler>=0.10 in /anaconda3/envs/carme/lib/python3.6/site-packages/cycler-0.10.0-py3.6.egg (from matplotlib) (0.10.0)\r\n",
      "Requirement already satisfied: pyparsing!=2.0.4,!=2.1.2,!=2.1.6,>=2.0.1 in /anaconda3/envs/carme/lib/python3.6/site-packages (from matplotlib) (2.2.0)\r\n",
      "Requirement already satisfied: python-dateutil>=2.1 in /anaconda3/envs/carme/lib/python3.6/site-packages (from matplotlib) (2.7.2)\r\n",
      "Requirement already satisfied: pytz in /anaconda3/envs/carme/lib/python3.6/site-packages (from matplotlib) (2018.3)\r\n",
      "Requirement already satisfied: six>=1.10 in /anaconda3/envs/carme/lib/python3.6/site-packages (from matplotlib) (1.11.0)\r\n",
      "Requirement already satisfied: kiwisolver>=1.0.1 in /anaconda3/envs/carme/lib/python3.6/site-packages (from matplotlib) (1.0.1)\r\n",
      "Requirement already satisfied: setuptools in /anaconda3/envs/carme/lib/python3.6/site-packages (from kiwisolver>=1.0.1->matplotlib) (39.0.1)\r\n"
     ]
    }
   ],
   "source": [
    "!pip install matplotlib"
   ]
  },
  {
   "cell_type": "code",
   "execution_count": 1,
   "metadata": {},
   "outputs": [],
   "source": [
    "%matplotlib inline"
   ]
  },
  {
   "cell_type": "code",
   "execution_count": 15,
   "metadata": {},
   "outputs": [
    {
     "data": {
      "text/html": [
       "\n",
       "    \n",
       "    \n",
       "        <p>0 of 1 tests passed</p>\n",
       "        \n",
       "        \n",
       "        <p> <strong>Tests failed: </strong>\n",
       "            <ul>\n",
       "            \n",
       "                <li> \n",
       "    <p><strong style='color: red;'>/Users/jasonkuruzovich/githubdesktop/0_class/summer_2019/notebooks/tests/q11.py</strong></p>\n",
       "\n",
       "    <p><strong>Test code:</strong><pre><div class=\"highlight\" style=\"background: #f8f8f8\"><pre style=\"line-height: 125%\"><span></span><span style=\"color: #000080; font-weight: bold\">&gt;&gt;&gt; </span>new_year\n",
       "<span style=\"color: #888888\">2018</span>\n",
       "</pre></div>\n",
       "</pre></p>\n",
       "\n",
       "    <p><strong>Test result:</strong><pre>Trying:\n",
       "    new_year\n",
       "Expecting:\n",
       "    2018\n",
       "**********************************************************************\n",
       "Line 2, in /Users/jasonkuruzovich/githubdesktop/0_class/summer_2019/notebooks/tests/q11.py 0\n",
       "Failed example:\n",
       "    new_year\n",
       "Exception raised:\n",
       "    Traceback (most recent call last):\n",
       "      File \"/anaconda3/envs/carme/lib/python3.6/doctest.py\", line 1330, in __run\n",
       "        compileflags, 1), test.globs)\n",
       "      File \"<doctest /Users/jasonkuruzovich/githubdesktop/0_class/summer_2019/notebooks/tests/q11.py 0[0]>\", line 1, in <module>\n",
       "        new_year\n",
       "    NameError: name 'new_year' is not defined\n",
       "</pre></p>\n",
       "     </li>\n",
       "            \n",
       "            </ul>\n",
       "        \n",
       "    \n",
       "    "
      ],
      "text/plain": [
       "<gradememaybe.ok.OKTestsResult at 0x107968fd0>"
      ]
     },
     "metadata": {},
     "output_type": "display_data"
    },
    {
     "data": {
      "text/html": [
       "\n",
       "    \n",
       "    \n",
       "        <p>0 of 1 tests passed</p>\n",
       "        \n",
       "        \n",
       "        <p> <strong>Tests failed: </strong>\n",
       "            <ul>\n",
       "            \n",
       "                <li> \n",
       "    <p><strong style='color: red;'>/Users/jasonkuruzovich/githubdesktop/0_class/summer_2019/notebooks/tests/q31.py</strong></p>\n",
       "\n",
       "    <p><strong>Test code:</strong><pre><div class=\"highlight\" style=\"background: #f8f8f8\"><pre style=\"line-height: 125%\"><span></span><span style=\"color: #000080; font-weight: bold\">&gt;&gt;&gt; </span><span style=\"color: #008000\">round</span>(near_twenty, <span style=\"color: #666666\">8</span>)\n",
       "<span style=\"color: #888888\">19.99909998</span>\n",
       "</pre></div>\n",
       "</pre></p>\n",
       "\n",
       "    <p><strong>Test result:</strong><pre>Trying:\n",
       "    round(near_twenty, 8)\n",
       "Expecting:\n",
       "    19.99909998\n",
       "**********************************************************************\n",
       "Line 2, in /Users/jasonkuruzovich/githubdesktop/0_class/summer_2019/notebooks/tests/q31.py 0\n",
       "Failed example:\n",
       "    round(near_twenty, 8)\n",
       "Exception raised:\n",
       "    Traceback (most recent call last):\n",
       "      File \"/anaconda3/envs/carme/lib/python3.6/doctest.py\", line 1330, in __run\n",
       "        compileflags, 1), test.globs)\n",
       "      File \"<doctest /Users/jasonkuruzovich/githubdesktop/0_class/summer_2019/notebooks/tests/q31.py 0[0]>\", line 1, in <module>\n",
       "        round(near_twenty, 8)\n",
       "    NameError: name 'near_twenty' is not defined\n",
       "</pre></p>\n",
       "     </li>\n",
       "            \n",
       "            </ul>\n",
       "        \n",
       "    \n",
       "    "
      ],
      "text/plain": [
       "<gradememaybe.ok.OKTestsResult at 0x1079aa400>"
      ]
     },
     "metadata": {},
     "output_type": "display_data"
    },
    {
     "data": {
      "text/html": [
       "\n",
       "    \n",
       "    \n",
       "        <p>0 of 1 tests passed</p>\n",
       "        \n",
       "        \n",
       "        <p> <strong>Tests failed: </strong>\n",
       "            <ul>\n",
       "            \n",
       "                <li> \n",
       "    <p><strong style='color: red;'>/Users/jasonkuruzovich/githubdesktop/0_class/summer_2019/notebooks/tests/q211.py</strong></p>\n",
       "\n",
       "    <p><strong>Test code:</strong><pre><div class=\"highlight\" style=\"background: #f8f8f8\"><pre style=\"line-height: 125%\"><span></span><span style=\"color: #000080; font-weight: bold\">&gt;&gt;&gt; </span><span style=\"color: #408080; font-style: italic\"># Hint 1: Try to make the word &quot;bookkeeper&quot;!</span>\n",
       "<span style=\"color: #000080; font-weight: bold\">&gt;&gt;&gt; </span><span style=\"color: #408080; font-style: italic\"># </span>\n",
       "<span style=\"color: #000080; font-weight: bold\">&gt;&gt;&gt; </span><span style=\"color: #408080; font-style: italic\"># Hint 2: After writing this:</span>\n",
       "<span style=\"color: #000080; font-weight: bold\">&gt;&gt;&gt; </span><span style=\"color: #408080; font-style: italic\">#   you = &#39;keep&#39;</span>\n",
       "<span style=\"color: #000080; font-weight: bold\">&gt;&gt;&gt; </span><span style=\"color: #408080; font-style: italic\"># the value of the variable named &#39;the&#39; will be</span>\n",
       "<span style=\"color: #000080; font-weight: bold\">&gt;&gt;&gt; </span><span style=\"color: #408080; font-style: italic\">#   &#39;beekeeper&#39;</span>\n",
       "<span style=\"color: #000080; font-weight: bold\">&gt;&gt;&gt; </span><span style=\"color: #BA2121\">&#39;beeper&#39;</span><span style=\"color: #666666\">.</span>replace(<span style=\"color: #BA2121\">&#39;p&#39;</span>, you)<span style=\"color: #666666\">.</span>replace(<span style=\"color: #BA2121\">&#39;bee&#39;</span>, this)[::<span style=\"color: #666666\">-1</span>]\n",
       "<span style=\"color: #888888\">&#39;repeekkoob&#39;</span>\n",
       "</pre></div>\n",
       "</pre></p>\n",
       "\n",
       "    <p><strong>Test result:</strong><pre>Trying:\n",
       "    'beeper'.replace('p', you).replace('bee', this)[::-1]\n",
       "Expecting:\n",
       "    'repeekkoob'\n",
       "**********************************************************************\n",
       "Line 8, in /Users/jasonkuruzovich/githubdesktop/0_class/summer_2019/notebooks/tests/q211.py 0\n",
       "Failed example:\n",
       "    'beeper'.replace('p', you).replace('bee', this)[::-1]\n",
       "Exception raised:\n",
       "    Traceback (most recent call last):\n",
       "      File \"/anaconda3/envs/carme/lib/python3.6/doctest.py\", line 1330, in __run\n",
       "        compileflags, 1), test.globs)\n",
       "      File \"<doctest /Users/jasonkuruzovich/githubdesktop/0_class/summer_2019/notebooks/tests/q211.py 0[0]>\", line 1, in <module>\n",
       "        'beeper'.replace('p', you).replace('bee', this)[::-1]\n",
       "    NameError: name 'you' is not defined\n",
       "</pre></p>\n",
       "     </li>\n",
       "            \n",
       "            </ul>\n",
       "        \n",
       "    \n",
       "    "
      ],
      "text/plain": [
       "<gradememaybe.ok.OKTestsResult at 0x1079aa6d8>"
      ]
     },
     "metadata": {},
     "output_type": "display_data"
    },
    {
     "data": {
      "text/html": [
       "\n",
       "    \n",
       "    \n",
       "        <p>0 of 1 tests passed</p>\n",
       "        \n",
       "        \n",
       "        <p> <strong>Tests failed: </strong>\n",
       "            <ul>\n",
       "            \n",
       "                <li> \n",
       "    <p><strong style='color: red;'>/Users/jasonkuruzovich/githubdesktop/0_class/summer_2019/notebooks/tests/q21.py</strong></p>\n",
       "\n",
       "    <p><strong>Test code:</strong><pre><div class=\"highlight\" style=\"background: #f8f8f8\"><pre style=\"line-height: 125%\"><span></span><span style=\"color: #000080; font-weight: bold\">&gt;&gt;&gt; </span>woman_asking\n",
       "<span style=\"color: #888888\">&#39;The woman asked:&#39;</span>\n",
       "<span style=\"color: #000080; font-weight: bold\">&gt;&gt;&gt; </span>gagarin_quote\n",
       "<span style=\"color: #888888\">&#39;&quot;As a matter of fact, I have!&quot;&#39;</span>\n",
       "</pre></div>\n",
       "</pre></p>\n",
       "\n",
       "    <p><strong>Test result:</strong><pre>Trying:\n",
       "    woman_asking\n",
       "Expecting:\n",
       "    'The woman asked:'\n",
       "**********************************************************************\n",
       "Line 2, in /Users/jasonkuruzovich/githubdesktop/0_class/summer_2019/notebooks/tests/q21.py 0\n",
       "Failed example:\n",
       "    woman_asking\n",
       "Exception raised:\n",
       "    Traceback (most recent call last):\n",
       "      File \"/anaconda3/envs/carme/lib/python3.6/doctest.py\", line 1330, in __run\n",
       "        compileflags, 1), test.globs)\n",
       "      File \"<doctest /Users/jasonkuruzovich/githubdesktop/0_class/summer_2019/notebooks/tests/q21.py 0[0]>\", line 1, in <module>\n",
       "        woman_asking\n",
       "    NameError: name 'woman_asking' is not defined\n",
       "Trying:\n",
       "    gagarin_quote\n",
       "Expecting:\n",
       "    '\"As a matter of fact, I have!\"'\n",
       "**********************************************************************\n",
       "Line 4, in /Users/jasonkuruzovich/githubdesktop/0_class/summer_2019/notebooks/tests/q21.py 0\n",
       "Failed example:\n",
       "    gagarin_quote\n",
       "Exception raised:\n",
       "    Traceback (most recent call last):\n",
       "      File \"/anaconda3/envs/carme/lib/python3.6/doctest.py\", line 1330, in __run\n",
       "        compileflags, 1), test.globs)\n",
       "      File \"<doctest /Users/jasonkuruzovich/githubdesktop/0_class/summer_2019/notebooks/tests/q21.py 0[1]>\", line 1, in <module>\n",
       "        gagarin_quote\n",
       "    NameError: name 'gagarin_quote' is not defined\n",
       "</pre></p>\n",
       "     </li>\n",
       "            \n",
       "            </ul>\n",
       "        \n",
       "    \n",
       "    "
      ],
      "text/plain": [
       "<gradememaybe.ok.OKTestsResult at 0x1079aa9b0>"
      ]
     },
     "metadata": {},
     "output_type": "display_data"
    },
    {
     "ename": "NameError",
     "evalue": "name 'name' is not defined",
     "output_type": "error",
     "traceback": [
      "\u001b[0;31m---------------------------------------------------------------------------\u001b[0m",
      "\u001b[0;31mNameError\u001b[0m                                 Traceback (most recent call last)",
      "\u001b[0;32m<ipython-input-15-764911b8e469>\u001b[0m in \u001b[0;36m<module>\u001b[0;34m()\u001b[0m\n\u001b[1;32m      4\u001b[0m \u001b[0mok\u001b[0m \u001b[0;34m=\u001b[0m \u001b[0mNotebook\u001b[0m\u001b[0;34m(\u001b[0m\u001b[0;34m'final.ok'\u001b[0m\u001b[0;34m)\u001b[0m\u001b[0;34m\u001b[0m\u001b[0;34m\u001b[0m\u001b[0m\n\u001b[1;32m      5\u001b[0m \u001b[0;34m\u001b[0m\u001b[0m\n\u001b[0;32m----> 6\u001b[0;31m \u001b[0mgrade\u001b[0m\u001b[0;34m.\u001b[0m\u001b[0mgrade\u001b[0m\u001b[0;34m(\u001b[0m\u001b[0mname\u001b[0m\u001b[0;34m,\u001b[0m \u001b[0mok\u001b[0m\u001b[0;34m)\u001b[0m\u001b[0;34m\u001b[0m\u001b[0;34m\u001b[0m\u001b[0m\n\u001b[0m",
      "\u001b[0;32m~/githubdesktop/0_class/summer_2019/notebooks/grade.py\u001b[0m in \u001b[0;36mgrade\u001b[0;34m(student, ok)\u001b[0m\n\u001b[1;32m     11\u001b[0m     \u001b[0mdf\u001b[0m \u001b[0;34m=\u001b[0m \u001b[0mpd\u001b[0m\u001b[0;34m.\u001b[0m\u001b[0mDataFrame\u001b[0m\u001b[0;34m(\u001b[0m\u001b[0;34m)\u001b[0m\u001b[0;34m\u001b[0m\u001b[0;34m\u001b[0m\u001b[0m\n\u001b[1;32m     12\u001b[0m     \u001b[0mrow\u001b[0m\u001b[0;34m=\u001b[0m\u001b[0mdf\u001b[0m\u001b[0;34m.\u001b[0m\u001b[0mshape\u001b[0m\u001b[0;34m[\u001b[0m\u001b[0;36m0\u001b[0m\u001b[0;34m]\u001b[0m\u001b[0;34m\u001b[0m\u001b[0;34m\u001b[0m\u001b[0m\n\u001b[0;32m---> 13\u001b[0;31m     \u001b[0mdf\u001b[0m\u001b[0;34m.\u001b[0m\u001b[0mloc\u001b[0m\u001b[0;34m[\u001b[0m\u001b[0mrow\u001b[0m\u001b[0;34m,\u001b[0m\u001b[0;34m'student'\u001b[0m\u001b[0;34m]\u001b[0m\u001b[0;34m=\u001b[0m\u001b[0mname\u001b[0m  \u001b[0;31m#This is set in the last.\u001b[0m\u001b[0;34m\u001b[0m\u001b[0;34m\u001b[0m\u001b[0m\n\u001b[0m\u001b[1;32m     14\u001b[0m     \u001b[0;31m#df.loc[row,'rcsid']=rcsid   #This is set in the last.\u001b[0m\u001b[0;34m\u001b[0m\u001b[0;34m\u001b[0m\u001b[0;34m\u001b[0m\u001b[0m\n\u001b[1;32m     15\u001b[0m     \u001b[0mtotal_grade\u001b[0m\u001b[0;34m=\u001b[0m\u001b[0;36m0\u001b[0m\u001b[0;34m\u001b[0m\u001b[0;34m\u001b[0m\u001b[0m\n",
      "\u001b[0;31mNameError\u001b[0m: name 'name' is not defined"
     ]
    }
   ],
   "source": [
    "import grade\n",
    "import importlib\n",
    "importlib.reload(grade)\n",
    "ok = Notebook('final.ok')\n",
    "\n",
    "grade.grade(name, ok)"
   ]
  },
  {
   "cell_type": "code",
   "execution_count": 13,
   "metadata": {},
   "outputs": [
    {
     "ename": "NameError",
     "evalue": "name 'ok' is not defined",
     "output_type": "error",
     "traceback": [
      "\u001b[0;31m---------------------------------------------------------------------------\u001b[0m",
      "\u001b[0;31mNameError\u001b[0m                                 Traceback (most recent call last)",
      "\u001b[0;32m<ipython-input-13-6ff511e06e4e>\u001b[0m in \u001b[0;36m<module>\u001b[0;34m()\u001b[0m\n\u001b[0;32m----> 1\u001b[0;31m \u001b[0mgrade\u001b[0m\u001b[0;34m.\u001b[0m\u001b[0mgrade\u001b[0m\u001b[0;34m(\u001b[0m\u001b[0mname\u001b[0m\u001b[0;34m)\u001b[0m\u001b[0;34m\u001b[0m\u001b[0;34m\u001b[0m\u001b[0m\n\u001b[0m",
      "\u001b[0;32m~/githubdesktop/0_class/summer_2019/notebooks/grade.py\u001b[0m in \u001b[0;36mgrade\u001b[0;34m(student)\u001b[0m\n\u001b[1;32m      5\u001b[0m \u001b[0;32mdef\u001b[0m \u001b[0mgrade\u001b[0m\u001b[0;34m(\u001b[0m\u001b[0mstudent\u001b[0m\u001b[0;34m)\u001b[0m\u001b[0;34m:\u001b[0m\u001b[0;34m\u001b[0m\u001b[0;34m\u001b[0m\u001b[0m\n\u001b[1;32m      6\u001b[0m \u001b[0;31m#Grade Results\u001b[0m\u001b[0;34m\u001b[0m\u001b[0;34m\u001b[0m\u001b[0;34m\u001b[0m\u001b[0m\n\u001b[0;32m----> 7\u001b[0;31m     \u001b[0mresults\u001b[0m\u001b[0;34m=\u001b[0m \u001b[0;34m{\u001b[0m\u001b[0mq\u001b[0m\u001b[0;34m[\u001b[0m\u001b[0;34m:\u001b[0m\u001b[0;34m-\u001b[0m\u001b[0;36m3\u001b[0m\u001b[0;34m]\u001b[0m\u001b[0;34m:\u001b[0m\u001b[0mok\u001b[0m\u001b[0;34m.\u001b[0m\u001b[0mgrade\u001b[0m\u001b[0;34m(\u001b[0m\u001b[0mq\u001b[0m\u001b[0;34m[\u001b[0m\u001b[0;34m:\u001b[0m\u001b[0;34m-\u001b[0m\u001b[0;36m3\u001b[0m\u001b[0;34m]\u001b[0m\u001b[0;34m)\u001b[0m \u001b[0;32mfor\u001b[0m \u001b[0mq\u001b[0m \u001b[0;32min\u001b[0m \u001b[0mos\u001b[0m\u001b[0;34m.\u001b[0m\u001b[0mlistdir\u001b[0m\u001b[0;34m(\u001b[0m\u001b[0;34m\"tests\"\u001b[0m\u001b[0;34m)\u001b[0m \u001b[0;32mif\u001b[0m \u001b[0mq\u001b[0m\u001b[0;34m.\u001b[0m\u001b[0mstartswith\u001b[0m\u001b[0;34m(\u001b[0m\u001b[0;34m'q'\u001b[0m\u001b[0;34m)\u001b[0m\u001b[0;34m}\u001b[0m\u001b[0;34m\u001b[0m\u001b[0;34m\u001b[0m\u001b[0m\n\u001b[0m\u001b[1;32m      8\u001b[0m \u001b[0;34m\u001b[0m\u001b[0m\n\u001b[1;32m      9\u001b[0m     \u001b[0;31m#If running locally with lots of notebooks load the grades.\u001b[0m\u001b[0;34m\u001b[0m\u001b[0;34m\u001b[0m\u001b[0;34m\u001b[0m\u001b[0m\n",
      "\u001b[0;32m~/githubdesktop/0_class/summer_2019/notebooks/grade.py\u001b[0m in \u001b[0;36m<dictcomp>\u001b[0;34m(.0)\u001b[0m\n\u001b[1;32m      5\u001b[0m \u001b[0;32mdef\u001b[0m \u001b[0mgrade\u001b[0m\u001b[0;34m(\u001b[0m\u001b[0mstudent\u001b[0m\u001b[0;34m)\u001b[0m\u001b[0;34m:\u001b[0m\u001b[0;34m\u001b[0m\u001b[0;34m\u001b[0m\u001b[0m\n\u001b[1;32m      6\u001b[0m \u001b[0;31m#Grade Results\u001b[0m\u001b[0;34m\u001b[0m\u001b[0;34m\u001b[0m\u001b[0;34m\u001b[0m\u001b[0m\n\u001b[0;32m----> 7\u001b[0;31m     \u001b[0mresults\u001b[0m\u001b[0;34m=\u001b[0m \u001b[0;34m{\u001b[0m\u001b[0mq\u001b[0m\u001b[0;34m[\u001b[0m\u001b[0;34m:\u001b[0m\u001b[0;34m-\u001b[0m\u001b[0;36m3\u001b[0m\u001b[0;34m]\u001b[0m\u001b[0;34m:\u001b[0m\u001b[0mok\u001b[0m\u001b[0;34m.\u001b[0m\u001b[0mgrade\u001b[0m\u001b[0;34m(\u001b[0m\u001b[0mq\u001b[0m\u001b[0;34m[\u001b[0m\u001b[0;34m:\u001b[0m\u001b[0;34m-\u001b[0m\u001b[0;36m3\u001b[0m\u001b[0;34m]\u001b[0m\u001b[0;34m)\u001b[0m \u001b[0;32mfor\u001b[0m \u001b[0mq\u001b[0m \u001b[0;32min\u001b[0m \u001b[0mos\u001b[0m\u001b[0;34m.\u001b[0m\u001b[0mlistdir\u001b[0m\u001b[0;34m(\u001b[0m\u001b[0;34m\"tests\"\u001b[0m\u001b[0;34m)\u001b[0m \u001b[0;32mif\u001b[0m \u001b[0mq\u001b[0m\u001b[0;34m.\u001b[0m\u001b[0mstartswith\u001b[0m\u001b[0;34m(\u001b[0m\u001b[0;34m'q'\u001b[0m\u001b[0;34m)\u001b[0m\u001b[0;34m}\u001b[0m\u001b[0;34m\u001b[0m\u001b[0;34m\u001b[0m\u001b[0m\n\u001b[0m\u001b[1;32m      8\u001b[0m \u001b[0;34m\u001b[0m\u001b[0m\n\u001b[1;32m      9\u001b[0m     \u001b[0;31m#If running locally with lots of notebooks load the grades.\u001b[0m\u001b[0;34m\u001b[0m\u001b[0;34m\u001b[0m\u001b[0;34m\u001b[0m\u001b[0m\n",
      "\u001b[0;31mNameError\u001b[0m: name 'ok' is not defined"
     ]
    }
   ],
   "source": [
    "grade.grade(name)"
   ]
  },
  {
   "cell_type": "code",
   "execution_count": 9,
   "metadata": {},
   "outputs": [],
   "source": [
    "#***********\n",
    "#Add the manually graded ones\n",
    "name= \"test\"\n",
    "comments=\"\"\n",
    "points_per_test=2.5\n",
    "#***********\n",
    "\n",
    "\n",
    "from client.api.notebook import Notebook\n",
    "ok = Notebook('final.ok')\n",
    "_ = ok.auth(inline=False)\n",
    "from bs4 import BeautifulSoup\n",
    "import pandas as pd\n",
    "import os\n",
    "\n",
    "def grade(student):\n",
    "#Grade Results\n",
    "    results= {q[:-3]:ok.grade(q[:-3]) for q in os.listdir(\"tests\") if q.startswith('q')}\n",
    "\n",
    "    #If running locally with lots of notebooks load the grades. \n",
    "    df = pd.DataFrame()\n",
    "    row=df.shape[0]\n",
    "    df.loc[row,'student']=name  #This is set in the last.\n",
    "    #df.loc[row,'rcsid']=rcsid   #This is set in the last. \n",
    "    total_grade=0\n",
    "    #This loops through the results\n",
    "    for key, val in results.items(): \n",
    "        df.loc[row,key]=val.grade\n",
    "        results_key=str(key)+\"-failed\"\n",
    "        df.loc[row,key]=val.grade*points_per_test\n",
    "        #We use beautiful soup to parse the tests. \n",
    "        soup = BeautifulSoup(str(val.failed_tests), \"lxml\")\n",
    "        #There are multiple components, but the expected data seems most valuable. \n",
    "        got = soup.get_text().split('\\\\n')[16:20]\n",
    "        df.loc[row,results_key]=str(got)\n",
    "        total_grade+=df.loc[row,key]  #total grade\n",
    "    df.loc[row,'total_grade']=total_grade\n",
    "    df.loc[row,'comments']=comments\n",
    "\n",
    "    if not os.path.isfile('grades.csv'):\n",
    "       df.to_csv('grades.csv', index=False)\n",
    "    else: # else it exists so append without writing the header\n",
    "       df.to_csv('grades.csv', mode='a', header=False,index=False)"
   ]
  },
  {
   "cell_type": "code",
   "execution_count": 10,
   "metadata": {},
   "outputs": [
    {
     "data": {
      "text/html": [
       "\n",
       "    \n",
       "    \n",
       "        <p>0 of 1 tests passed</p>\n",
       "        \n",
       "        \n",
       "        <p> <strong>Tests failed: </strong>\n",
       "            <ul>\n",
       "            \n",
       "                <li> \n",
       "    <p><strong style='color: red;'>/Users/jasonkuruzovich/githubdesktop/0_class/summer_2019/notebooks/tests/q11.py</strong></p>\n",
       "\n",
       "    <p><strong>Test code:</strong><pre><div class=\"highlight\" style=\"background: #f8f8f8\"><pre style=\"line-height: 125%\"><span></span><span style=\"color: #000080; font-weight: bold\">&gt;&gt;&gt; </span>new_year\n",
       "<span style=\"color: #888888\">2018</span>\n",
       "</pre></div>\n",
       "</pre></p>\n",
       "\n",
       "    <p><strong>Test result:</strong><pre>Trying:\n",
       "    new_year\n",
       "Expecting:\n",
       "    2018\n",
       "**********************************************************************\n",
       "Line 2, in /Users/jasonkuruzovich/githubdesktop/0_class/summer_2019/notebooks/tests/q11.py 0\n",
       "Failed example:\n",
       "    new_year\n",
       "Exception raised:\n",
       "    Traceback (most recent call last):\n",
       "      File \"/anaconda3/envs/carme/lib/python3.6/doctest.py\", line 1330, in __run\n",
       "        compileflags, 1), test.globs)\n",
       "      File \"<doctest /Users/jasonkuruzovich/githubdesktop/0_class/summer_2019/notebooks/tests/q11.py 0[0]>\", line 1, in <module>\n",
       "        new_year\n",
       "    NameError: name 'new_year' is not defined\n",
       "</pre></p>\n",
       "     </li>\n",
       "            \n",
       "            </ul>\n",
       "        \n",
       "    \n",
       "    "
      ],
      "text/plain": [
       "<gradememaybe.ok.OKTestsResult at 0x107732eb8>"
      ]
     },
     "metadata": {},
     "output_type": "display_data"
    },
    {
     "data": {
      "text/html": [
       "\n",
       "    \n",
       "    \n",
       "        <p>0 of 1 tests passed</p>\n",
       "        \n",
       "        \n",
       "        <p> <strong>Tests failed: </strong>\n",
       "            <ul>\n",
       "            \n",
       "                <li> \n",
       "    <p><strong style='color: red;'>/Users/jasonkuruzovich/githubdesktop/0_class/summer_2019/notebooks/tests/q31.py</strong></p>\n",
       "\n",
       "    <p><strong>Test code:</strong><pre><div class=\"highlight\" style=\"background: #f8f8f8\"><pre style=\"line-height: 125%\"><span></span><span style=\"color: #000080; font-weight: bold\">&gt;&gt;&gt; </span><span style=\"color: #008000\">round</span>(near_twenty, <span style=\"color: #666666\">8</span>)\n",
       "<span style=\"color: #888888\">19.99909998</span>\n",
       "</pre></div>\n",
       "</pre></p>\n",
       "\n",
       "    <p><strong>Test result:</strong><pre>Trying:\n",
       "    round(near_twenty, 8)\n",
       "Expecting:\n",
       "    19.99909998\n",
       "**********************************************************************\n",
       "Line 2, in /Users/jasonkuruzovich/githubdesktop/0_class/summer_2019/notebooks/tests/q31.py 0\n",
       "Failed example:\n",
       "    round(near_twenty, 8)\n",
       "Exception raised:\n",
       "    Traceback (most recent call last):\n",
       "      File \"/anaconda3/envs/carme/lib/python3.6/doctest.py\", line 1330, in __run\n",
       "        compileflags, 1), test.globs)\n",
       "      File \"<doctest /Users/jasonkuruzovich/githubdesktop/0_class/summer_2019/notebooks/tests/q31.py 0[0]>\", line 1, in <module>\n",
       "        round(near_twenty, 8)\n",
       "    NameError: name 'near_twenty' is not defined\n",
       "</pre></p>\n",
       "     </li>\n",
       "            \n",
       "            </ul>\n",
       "        \n",
       "    \n",
       "    "
      ],
      "text/plain": [
       "<gradememaybe.ok.OKTestsResult at 0x1077a76d8>"
      ]
     },
     "metadata": {},
     "output_type": "display_data"
    },
    {
     "data": {
      "text/html": [
       "\n",
       "    \n",
       "    \n",
       "        <p>0 of 1 tests passed</p>\n",
       "        \n",
       "        \n",
       "        <p> <strong>Tests failed: </strong>\n",
       "            <ul>\n",
       "            \n",
       "                <li> \n",
       "    <p><strong style='color: red;'>/Users/jasonkuruzovich/githubdesktop/0_class/summer_2019/notebooks/tests/q211.py</strong></p>\n",
       "\n",
       "    <p><strong>Test code:</strong><pre><div class=\"highlight\" style=\"background: #f8f8f8\"><pre style=\"line-height: 125%\"><span></span><span style=\"color: #000080; font-weight: bold\">&gt;&gt;&gt; </span><span style=\"color: #408080; font-style: italic\"># Hint 1: Try to make the word &quot;bookkeeper&quot;!</span>\n",
       "<span style=\"color: #000080; font-weight: bold\">&gt;&gt;&gt; </span><span style=\"color: #408080; font-style: italic\"># </span>\n",
       "<span style=\"color: #000080; font-weight: bold\">&gt;&gt;&gt; </span><span style=\"color: #408080; font-style: italic\"># Hint 2: After writing this:</span>\n",
       "<span style=\"color: #000080; font-weight: bold\">&gt;&gt;&gt; </span><span style=\"color: #408080; font-style: italic\">#   you = &#39;keep&#39;</span>\n",
       "<span style=\"color: #000080; font-weight: bold\">&gt;&gt;&gt; </span><span style=\"color: #408080; font-style: italic\"># the value of the variable named &#39;the&#39; will be</span>\n",
       "<span style=\"color: #000080; font-weight: bold\">&gt;&gt;&gt; </span><span style=\"color: #408080; font-style: italic\">#   &#39;beekeeper&#39;</span>\n",
       "<span style=\"color: #000080; font-weight: bold\">&gt;&gt;&gt; </span><span style=\"color: #BA2121\">&#39;beeper&#39;</span><span style=\"color: #666666\">.</span>replace(<span style=\"color: #BA2121\">&#39;p&#39;</span>, you)<span style=\"color: #666666\">.</span>replace(<span style=\"color: #BA2121\">&#39;bee&#39;</span>, this)[::<span style=\"color: #666666\">-1</span>]\n",
       "<span style=\"color: #888888\">&#39;repeekkoob&#39;</span>\n",
       "</pre></div>\n",
       "</pre></p>\n",
       "\n",
       "    <p><strong>Test result:</strong><pre>Trying:\n",
       "    'beeper'.replace('p', you).replace('bee', this)[::-1]\n",
       "Expecting:\n",
       "    'repeekkoob'\n",
       "**********************************************************************\n",
       "Line 8, in /Users/jasonkuruzovich/githubdesktop/0_class/summer_2019/notebooks/tests/q211.py 0\n",
       "Failed example:\n",
       "    'beeper'.replace('p', you).replace('bee', this)[::-1]\n",
       "Exception raised:\n",
       "    Traceback (most recent call last):\n",
       "      File \"/anaconda3/envs/carme/lib/python3.6/doctest.py\", line 1330, in __run\n",
       "        compileflags, 1), test.globs)\n",
       "      File \"<doctest /Users/jasonkuruzovich/githubdesktop/0_class/summer_2019/notebooks/tests/q211.py 0[0]>\", line 1, in <module>\n",
       "        'beeper'.replace('p', you).replace('bee', this)[::-1]\n",
       "    NameError: name 'you' is not defined\n",
       "</pre></p>\n",
       "     </li>\n",
       "            \n",
       "            </ul>\n",
       "        \n",
       "    \n",
       "    "
      ],
      "text/plain": [
       "<gradememaybe.ok.OKTestsResult at 0x1077a7b38>"
      ]
     },
     "metadata": {},
     "output_type": "display_data"
    },
    {
     "data": {
      "text/html": [
       "\n",
       "    \n",
       "    \n",
       "        <p>0 of 1 tests passed</p>\n",
       "        \n",
       "        \n",
       "        <p> <strong>Tests failed: </strong>\n",
       "            <ul>\n",
       "            \n",
       "                <li> \n",
       "    <p><strong style='color: red;'>/Users/jasonkuruzovich/githubdesktop/0_class/summer_2019/notebooks/tests/q21.py</strong></p>\n",
       "\n",
       "    <p><strong>Test code:</strong><pre><div class=\"highlight\" style=\"background: #f8f8f8\"><pre style=\"line-height: 125%\"><span></span><span style=\"color: #000080; font-weight: bold\">&gt;&gt;&gt; </span>woman_asking\n",
       "<span style=\"color: #888888\">&#39;The woman asked:&#39;</span>\n",
       "<span style=\"color: #000080; font-weight: bold\">&gt;&gt;&gt; </span>gagarin_quote\n",
       "<span style=\"color: #888888\">&#39;&quot;As a matter of fact, I have!&quot;&#39;</span>\n",
       "</pre></div>\n",
       "</pre></p>\n",
       "\n",
       "    <p><strong>Test result:</strong><pre>Trying:\n",
       "    woman_asking\n",
       "Expecting:\n",
       "    'The woman asked:'\n",
       "**********************************************************************\n",
       "Line 2, in /Users/jasonkuruzovich/githubdesktop/0_class/summer_2019/notebooks/tests/q21.py 0\n",
       "Failed example:\n",
       "    woman_asking\n",
       "Exception raised:\n",
       "    Traceback (most recent call last):\n",
       "      File \"/anaconda3/envs/carme/lib/python3.6/doctest.py\", line 1330, in __run\n",
       "        compileflags, 1), test.globs)\n",
       "      File \"<doctest /Users/jasonkuruzovich/githubdesktop/0_class/summer_2019/notebooks/tests/q21.py 0[0]>\", line 1, in <module>\n",
       "        woman_asking\n",
       "    NameError: name 'woman_asking' is not defined\n",
       "Trying:\n",
       "    gagarin_quote\n",
       "Expecting:\n",
       "    '\"As a matter of fact, I have!\"'\n",
       "**********************************************************************\n",
       "Line 4, in /Users/jasonkuruzovich/githubdesktop/0_class/summer_2019/notebooks/tests/q21.py 0\n",
       "Failed example:\n",
       "    gagarin_quote\n",
       "Exception raised:\n",
       "    Traceback (most recent call last):\n",
       "      File \"/anaconda3/envs/carme/lib/python3.6/doctest.py\", line 1330, in __run\n",
       "        compileflags, 1), test.globs)\n",
       "      File \"<doctest /Users/jasonkuruzovich/githubdesktop/0_class/summer_2019/notebooks/tests/q21.py 0[1]>\", line 1, in <module>\n",
       "        gagarin_quote\n",
       "    NameError: name 'gagarin_quote' is not defined\n",
       "</pre></p>\n",
       "     </li>\n",
       "            \n",
       "            </ul>\n",
       "        \n",
       "    \n",
       "    "
      ],
      "text/plain": [
       "<gradememaybe.ok.OKTestsResult at 0x107795048>"
      ]
     },
     "metadata": {},
     "output_type": "display_data"
    }
   ],
   "source": [
    "grade(name)"
   ]
  },
  {
   "cell_type": "code",
   "execution_count": 3,
   "metadata": {},
   "outputs": [
    {
     "data": {
      "text/plain": [
       "{'q11': <gradememaybe.ok.OKTestsResult at 0x10764dc50>,\n",
       " 'q31': <gradememaybe.ok.OKTestsResult at 0x104b95da0>,\n",
       " 'q211': <gradememaybe.ok.OKTestsResult at 0x107659518>,\n",
       " 'q21': <gradememaybe.ok.OKTestsResult at 0x1076595c0>}"
      ]
     },
     "execution_count": 3,
     "metadata": {},
     "output_type": "execute_result"
    }
   ],
   "source": [
    "results"
   ]
  },
  {
   "cell_type": "code",
   "execution_count": 8,
   "metadata": {},
   "outputs": [],
   "source": [
    "\n",
    "#If running locally with lots of notebooks load the grades. \n",
    "df = pd.DataFrame()\n",
    "row=df.shape[0]\n",
    "df.loc[row,'student']=name  #This is set in the last.\n",
    "#df.loc[row,'rcsid']=rcsid   #This is set in the last. \n",
    "total_grade=0\n",
    "#This loops through the results\n",
    "for key, val in results.items(): \n",
    "    df.loc[row,key]=val.grade\n",
    "    results_key=str(key)+\"-failed\"\n",
    "    df.loc[row,key]=val.grade*points_per_test\n",
    "    #We use beautiful soup to parse the tests. \n",
    "    soup = BeautifulSoup(str(val.failed_tests), \"lxml\")\n",
    "    #There are multiple components, but the expected data seems most valuable. \n",
    "    got = soup.get_text().split('\\\\n')[16:20]\n",
    "    df.loc[row,results_key]=str(got)\n",
    "    total_grade+=df.loc[row,key]  #total grade\n",
    "df.loc[row,'total_grade']=total_grade\n",
    "df.loc[row,'comments']=comments\n",
    "\n",
    "if not os.path.isfile('grades.csv'):\n",
    "   df.to_csv('grades.csv', index=False)\n",
    "else: # else it exists so append without writing the header\n",
    "   df.to_csv('grades.csv', mode='a', header=False,index=False)"
   ]
  },
  {
   "cell_type": "code",
   "execution_count": null,
   "metadata": {},
   "outputs": [],
   "source": []
  }
 ],
 "metadata": {
  "anaconda-cloud": {},
  "kernelspec": {
   "display_name": "Python (carme)",
   "language": "python",
   "name": "carme"
  },
  "language_info": {
   "codemirror_mode": {
    "name": "ipython",
    "version": 3
   },
   "file_extension": ".py",
   "mimetype": "text/x-python",
   "name": "python",
   "nbconvert_exporter": "python",
   "pygments_lexer": "ipython3",
   "version": "3.6.7"
  }
 },
 "nbformat": 4,
 "nbformat_minor": 2
}
